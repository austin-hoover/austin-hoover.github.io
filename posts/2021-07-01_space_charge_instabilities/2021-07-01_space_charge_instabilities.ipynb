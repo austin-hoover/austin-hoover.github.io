{
 "cells": [
  {
   "cell_type": "markdown",
   "id": "2a7c8efc-48ee-4b7e-a51e-96e18f76ede1",
   "metadata": {},
   "source": [
    "---\n",
    "title: \"Space charge resonances and instabilities\"\n",
    "date: 2021-07-01\n",
    "author: Austin Hoover\n",
    "categories: [space charge, resonance, instability]\n",
    "image: instability_viridis.png\n",
    "\n",
    "---"
   ]
  },
  {
   "cell_type": "markdown",
   "id": "7b99dfaf-04e8-4136-b6bd-2db026f02910",
   "metadata": {},
   "source": [
    "This post has not been converted to Quarto format yet. It is at my old blog:\n",
    "\n",
    "[https://austin-hoover.github.io/blog/physics/space%20charge/simulation/resonances/2021/07/01/space_charge_instabilities.html](https://austin-hoover.github.io/blog/physics/space%20charge/simulation/resonances/2021/07/01/space_charge_instabilities.html)."
   ]
  }
 ],
 "metadata": {
  "kernelspec": {
   "display_name": "Python 3 (ipykernel)",
   "language": "python",
   "name": "python3"
  },
  "language_info": {
   "codemirror_mode": {
    "name": "ipython",
    "version": 3
   },
   "file_extension": ".py",
   "mimetype": "text/x-python",
   "name": "python",
   "nbconvert_exporter": "python",
   "pygments_lexer": "ipython3",
   "version": "3.8.10"
  }
 },
 "nbformat": 4,
 "nbformat_minor": 5
}
