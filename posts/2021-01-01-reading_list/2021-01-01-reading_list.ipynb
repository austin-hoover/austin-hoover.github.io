{
 "cells": [
  {
   "cell_type": "raw",
   "metadata": {},
   "source": [
    "---\n",
    "aliases:\n",
    "- /2021/01/01/references\n",
    "author: Austin Hoover\n",
    "badges: false\n",
    "date: '2021-01-01'\n",
    "description: Some books and articles I've read.\n",
    "image: books.jpg\n",
    "output-file: 2021-01-01-references.html\n",
    "title: Reading list\n",
    "toc: true\n",
    "---\n",
    "\n"
   ]
  },
  {
   "cell_type": "markdown",
   "metadata": {
    "tags": []
   },
   "source": [
    "* Accelerator physics\n",
    "    * *Accelerator Physics* — S. Y. Lee\n",
    "    * *Introduction to the Physics of High Energy Accelerators* — D. Edwards and M. Syphers\n",
    "    * *Measurement and Control of Charged Particle Beams* — M. Minty and F. Zimmerman\n",
    "    * *Particle Accelerator Physics* — H. Wiedemann\n",
    "    * *RF Linear Acceleratos* — T. Wangler\n",
    "    * *Space Charge Physics for Particle Accelerators* — I. Hofmann\n",
    "    * *Theory and Design of Charged Particle Beams* — M. Reiser\n",
    "* Computer science\n",
    "    * *Algorithms* — R. Sedgewick and K. Wayne \n",
    "    * *Elements of Programming Interviews* — A. Aziz, T. Lee, and A. Prakash\n",
    "* Fiction\n",
    "    * *The Alchemist* — Paulo Coelho\n",
    "    * *Crime and Punishment* — Fyodor Dostoevsky\n",
    "    * *Fahrenheit 451* — Ray Bradbury\n",
    "    * *No Country for Old Men* — Cormac McCarthy\n",
    "    * *The Road* — Cormac McCarthy\n",
    "    * *Stories of Your Life and Others* — Ted Chiang\n",
    "* History\n",
    "    * *What Is Real?: The Unfinished Quest for the Meaning of Quantum Physics* — Adam Becker\n",
    "* Machine learning\n",
    "    * *Neural Networks and Deep Learning* — M. Nielsen\n",
    "    * *Pattern Recognition and Machine Learning* — C. Bishop\n",
    "* Mathematics\n",
    "    * *Mathematical Methods for Physicists* — G. Arfken, F. Weber, and F. Harris\n",
    "    * *Mathematics of Classical and Quantum Physics* — F. Byron and R. Fuller\n",
    "* Miscellaneous\n",
    "    * *Envisioning Information* — Edward Tufte\n",
    "* Philosophy\n",
    "    * *Arguing About Gods* — Graham Oppy\n",
    "    * *Change in View* — Gilbert Harman\n",
    "    * *The Emergent Multiverse* — David Wallace\n",
    "    * *Five Proofs of the Existence of God* — Edward Feser\n",
    "    * *Infinity, Causation, and Paradox* — Alexander Pruss\n",
    "    * *Knowledge and Christian Belief* — Alvin Plantinga\n",
    "    * *Necessary Existence* — Alexander Pruss and Joshua Rasmussen\n",
    "    * *Taking Pascal's Wager* — Michael Rota\n",
    "    * *Time and Chance* — David Albert\n",
    "    * *Philosophy of Physics: Quantum Theory* — Tim Maudlin\n",
    "    * *Philosophy of Physics: Space and Time* — Tim Maudlin\n",
    "* Physics\n",
    "    * *Astrophysics in a Nutshell* — D. Maoz\n",
    "    * *Classical Electrodynamics* — J. Jackson\n",
    "    * *Classical Electromagnetism* — J. Franklin\n",
    "    * *Classical Mechanics* — S. Goldstein\n",
    "    * *Classical Mechanics* — J. Taylor\n",
    "    * *Introduction to Electrodynamics* — R. Griffiths\n",
    "    * *Introduction to Quantum Mechanics* — R. Griffiths\n",
    "    * *Introduction to Elementary Particle Physics* — R. Griffiths\n",
    "    * *Introduction to Thermal Physics* — D. Schroeder\n",
    "    * *Modern Elementary Particle Physics* — G. Kane\n",
    "    * *Modern Quantum Mechanics* — J. Sakurai\n",
    "    * *Optical Coherence and Quantum Optics* — I. Mandel and E. Wolf\n",
    "    * *Quantum Mechanics: Concepts and Applications* — N. Zettili\n",
    "    * *Statistical Physics of Particles* — M. Kardar\n",
    "* Religion\n",
    "    * *Mere Christianity* — C. S. Lewis\n",
    "* Sociology\n",
    "    * *The Disappearance of Childhood* — Niel Postman\n",
    "    * *Wealth, Poverty, and Politics* — Thomas Sowell"
   ]
  },
  {
   "cell_type": "code",
   "execution_count": null,
   "metadata": {},
   "outputs": [],
   "source": []
  }
 ],
 "metadata": {
  "kernelspec": {
   "display_name": "Python 3 (ipykernel)",
   "language": "python",
   "name": "python3"
  },
  "language_info": {
   "codemirror_mode": {
    "name": "ipython",
    "version": 3
   },
   "file_extension": ".py",
   "mimetype": "text/x-python",
   "name": "python",
   "nbconvert_exporter": "python",
   "pygments_lexer": "ipython3",
   "version": "3.8.10"
  }
 },
 "nbformat": 4,
 "nbformat_minor": 4
}
